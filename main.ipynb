{
  "nbformat": 4,
  "nbformat_minor": 0,
  "metadata": {
    "colab": {
      "name": "main.ipynb",
      "provenance": [],
      "collapsed_sections": [],
      "authorship_tag": "ABX9TyNzjQFfSaTNFzWCcMutHYxf",
      "include_colab_link": true
    },
    "kernelspec": {
      "name": "python3",
      "display_name": "Python 3"
    },
    "accelerator": "GPU"
  },
  "cells": [
    {
      "cell_type": "markdown",
      "metadata": {
        "id": "view-in-github",
        "colab_type": "text"
      },
      "source": [
        "<a href=\"https://colab.research.google.com/github/cudaf/hello-world/blob/master/main.ipynb\" target=\"_parent\"><img src=\"https://colab.research.google.com/assets/colab-badge.svg\" alt=\"Open In Colab\"/></a>"
      ]
    },
    {
      "cell_type": "code",
      "metadata": {
        "id": "Mkys2arU5JQf",
        "outputId": "c2124ef7-8ea5-4120-f501-7787be9087aa",
        "colab": {
          "base_uri": "https://localhost:8080/",
          "height": 907
        }
      },
      "source": [
        "# Install CUDA Toolkit 11.1\n",
        "!wget https://developer.download.nvidia.com/compute/cuda/repos/ubuntu2004/x86_64/cuda-ubuntu2004.pin\n",
        "!mv cuda-ubuntu2004.pin /etc/apt/preferences.d/cuda-repository-pin-600\n",
        "!wget https://developer.download.nvidia.com/compute/cuda/11.1.0/local_installers/cuda-repo-ubuntu2004-11-1-local_11.1.0-455.23.05-1_amd64.deb\n",
        "!dpkg -i cuda-repo-ubuntu2004-11-1-local_11.1.0-455.23.05-1_amd64.deb\n",
        "!apt-key add /var/cuda-repo-ubuntu2004-11-1-local/7fa2af80.pub\n",
        "!apt-get update\n",
        "!apt-get -y install build-essential\n",
        "!apt-get -y install cuda"
      ],
      "execution_count": null,
      "outputs": [
        {
          "output_type": "stream",
          "text": [
            "--2020-10-11 14:25:18--  https://developer.download.nvidia.com/compute/cuda/repos/ubuntu2004/x86_64/cuda-ubuntu2004.pin\n",
            "Resolving developer.download.nvidia.com (developer.download.nvidia.com)... 152.199.39.144\n",
            "Connecting to developer.download.nvidia.com (developer.download.nvidia.com)|152.199.39.144|:443... connected.\n",
            "HTTP request sent, awaiting response... 200 OK\n",
            "Length: 190 [application/octet-stream]\n",
            "Saving to: ‘cuda-ubuntu2004.pin’\n",
            "\n",
            "\rcuda-ubuntu2004.pin   0%[                    ]       0  --.-KB/s               \rcuda-ubuntu2004.pin 100%[===================>]     190  --.-KB/s    in 0s      \n",
            "\n",
            "2020-10-11 14:25:18 (2.54 MB/s) - ‘cuda-ubuntu2004.pin’ saved [190/190]\n",
            "\n",
            "--2020-10-11 14:25:18--  https://developer.download.nvidia.com/compute/cuda/11.1.0/local_installers/cuda-repo-ubuntu2004-11-1-local_11.1.0-455.23.05-1_amd64.deb\n",
            "Resolving developer.download.nvidia.com (developer.download.nvidia.com)... 152.199.39.144\n",
            "Connecting to developer.download.nvidia.com (developer.download.nvidia.com)|152.199.39.144|:443... connected.\n",
            "HTTP request sent, awaiting response... 200 OK\n",
            "Length: 2590988054 (2.4G) [application/x-deb]\n",
            "Saving to: ‘cuda-repo-ubuntu2004-11-1-local_11.1.0-455.23.05-1_amd64.deb.1’\n",
            "\n",
            "cuda-repo-ubuntu200 100%[===================>]   2.41G  25.5MB/s    in 97s     \n",
            "\n",
            "2020-10-11 14:26:55 (25.5 MB/s) - ‘cuda-repo-ubuntu2004-11-1-local_11.1.0-455.23.05-1_amd64.deb.1’ saved [2590988054/2590988054]\n",
            "\n",
            "(Reading database ... 150248 files and directories currently installed.)\n",
            "Preparing to unpack cuda-repo-ubuntu2004-11-1-local_11.1.0-455.23.05-1_amd64.deb ...\n",
            "Unpacking cuda-repo-ubuntu2004-11-1-local (11.1.0-455.23.05-1) over (11.1.0-455.23.05-1) ...\n",
            "Setting up cuda-repo-ubuntu2004-11-1-local (11.1.0-455.23.05-1) ...\n",
            "OK\n",
            "Get:1 file:/var/cuda-repo-ubuntu2004-11-1-local  InRelease\n",
            "Ign:1 file:/var/cuda-repo-ubuntu2004-11-1-local  InRelease\n",
            "Get:2 file:/var/cuda-repo-ubuntu2004-11-1-local  Release [564 B]\n",
            "Get:2 file:/var/cuda-repo-ubuntu2004-11-1-local  Release [564 B]\n",
            "Hit:3 https://cloud.r-project.org/bin/linux/ubuntu bionic-cran40/ InRelease\n",
            "Ign:5 https://developer.download.nvidia.com/compute/cuda/repos/ubuntu1804/x86_64  InRelease\n",
            "Ign:6 https://developer.download.nvidia.com/compute/machine-learning/repos/ubuntu1804/x86_64  InRelease\n",
            "Hit:7 https://developer.download.nvidia.com/compute/cuda/repos/ubuntu1804/x86_64  Release\n",
            "Hit:8 https://developer.download.nvidia.com/compute/machine-learning/repos/ubuntu1804/x86_64  Release\n",
            "Hit:9 http://ppa.launchpad.net/c2d4u.team/c2d4u4.0+/ubuntu bionic InRelease\n",
            "Hit:10 http://security.ubuntu.com/ubuntu bionic-security InRelease\n",
            "Hit:12 http://archive.ubuntu.com/ubuntu bionic InRelease\n",
            "Hit:14 http://ppa.launchpad.net/graphics-drivers/ppa/ubuntu bionic InRelease\n",
            "Hit:15 http://archive.ubuntu.com/ubuntu bionic-updates InRelease\n",
            "Hit:16 http://archive.ubuntu.com/ubuntu bionic-backports InRelease\n",
            "Reading package lists... Done\n",
            "Reading package lists... Done\n",
            "Building dependency tree       \n",
            "Reading state information... Done\n",
            "build-essential is already the newest version (12.4ubuntu1).\n",
            "0 upgraded, 0 newly installed, 0 to remove and 21 not upgraded.\n",
            "Reading package lists... Done\n",
            "Building dependency tree       \n",
            "Reading state information... Done\n",
            "cuda is already the newest version (11.1.0-1).\n",
            "0 upgraded, 0 newly installed, 0 to remove and 21 not upgraded.\n"
          ],
          "name": "stdout"
        }
      ]
    },
    {
      "cell_type": "code",
      "metadata": {
        "id": "uNJpYOuLKpUY",
        "outputId": "a4bb6019-6e11-45b5-a097-33a61a05cd4c",
        "colab": {
          "base_uri": "https://localhost:8080/",
          "height": 34
        }
      },
      "source": [
        "# Download example\n",
        "!git clone https://github.com/cudaf/hello-world"
      ],
      "execution_count": 8,
      "outputs": [
        {
          "output_type": "stream",
          "text": [
            "fatal: destination path 'hello-world' already exists and is not an empty directory.\n"
          ],
          "name": "stdout"
        }
      ]
    },
    {
      "cell_type": "code",
      "metadata": {
        "id": "JDzlhMSxLySu",
        "outputId": "e82a5dfe-beee-4e80-97fe-540caa44e916",
        "colab": {
          "base_uri": "https://localhost:8080/",
          "height": 238
        }
      },
      "source": [
        "# Run\n",
        "!cd hello-world && nvcc main.cu && ./a.out"
      ],
      "execution_count": 7,
      "outputs": [
        {
          "output_type": "stream",
          "text": [
            "GPU: Hello world!\n",
            "GPU: Hello world!\n",
            "GPU: Hello world!\n",
            "GPU: Hello world!\n",
            "GPU: Hello world!\n",
            "GPU: Hello world!\n",
            "GPU: Hello world!\n",
            "GPU: Hello world!\n",
            "GPU: Hello world!\n",
            "GPU: Hello world!\n",
            "GPU: Hello world!\n",
            "GPU: Hello world!\n",
            "CPU: Hello world!"
          ],
          "name": "stdout"
        }
      ]
    }
  ]
}