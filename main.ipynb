{
  "nbformat": 4,
  "nbformat_minor": 0,
  "metadata": {
    "colab": {
      "name": "cudaf/hello-world.ipynb",
      "provenance": [],
      "collapsed_sections": [],
      "authorship_tag": "ABX9TyNXI/WQlEUqp+usBtKiUZaB",
      "include_colab_link": true
    },
    "kernelspec": {
      "name": "python3",
      "display_name": "Python 3"
    },
    "accelerator": "GPU"
  },
  "cells": [
    {
      "cell_type": "markdown",
      "metadata": {
        "id": "view-in-github",
        "colab_type": "text"
      },
      "source": [
        "<a href=\"https://colab.research.google.com/github/cudaf/hello-world/blob/master/main.ipynb\" target=\"_parent\"><img src=\"https://colab.research.google.com/assets/colab-badge.svg\" alt=\"Open In Colab\"/></a>"
      ]
    },
    {
      "cell_type": "code",
      "metadata": {
        "id": "Mkys2arU5JQf"
      },
      "source": [
        "# Install CUDA Toolkit 11.1\n",
        "!wget https://developer.download.nvidia.com/compute/cuda/repos/ubuntu2004/x86_64/cuda-ubuntu2004.pin\n",
        "!mv cuda-ubuntu2004.pin /etc/apt/preferences.d/cuda-repository-pin-600\n",
        "!wget https://developer.download.nvidia.com/compute/cuda/11.1.0/local_installers/cuda-repo-ubuntu2004-11-1-local_11.1.0-455.23.05-1_amd64.deb\n",
        "!dpkg -i cuda-repo-ubuntu2004-11-1-local_11.1.0-455.23.05-1_amd64.deb\n",
        "!apt-key add /var/cuda-repo-ubuntu2004-11-1-local/7fa2af80.pub\n",
        "!apt-get update\n",
        "!apt-get -y install build-essential\n",
        "!apt-get -y install cuda"
      ],
      "execution_count": null,
      "outputs": []
    },
    {
      "cell_type": "code",
      "metadata": {
        "id": "uNJpYOuLKpUY",
        "outputId": "6cb10931-321f-436c-987b-a1e14a9c1fb2",
        "colab": {
          "base_uri": "https://localhost:8080/",
          "height": 119
        }
      },
      "source": [
        "# Download example\n",
        "!rm -rf hello-world\n",
        "!git clone https://github.com/cudaf/hello-world"
      ],
      "execution_count": null,
      "outputs": [
        {
          "output_type": "stream",
          "text": [
            "Cloning into 'hello-world'...\n",
            "remote: Enumerating objects: 50, done.\u001b[K\n",
            "remote: Counting objects: 100% (50/50), done.\u001b[K\n",
            "remote: Compressing objects: 100% (42/42), done.\u001b[K\n",
            "remote: Total 50 (delta 21), reused 17 (delta 6), pack-reused 0\u001b[K\n",
            "Unpacking objects: 100% (50/50), done.\n"
          ],
          "name": "stdout"
        }
      ]
    },
    {
      "cell_type": "code",
      "metadata": {
        "id": "JDzlhMSxLySu",
        "outputId": "d6ec04c7-3735-4005-abb9-6cb3f11a905a",
        "colab": {
          "base_uri": "https://localhost:8080/",
          "height": 238
        }
      },
      "source": [
        "# Run\n",
        "!cd hello-world && nvcc main.cu && ./a.out"
      ],
      "execution_count": null,
      "outputs": [
        {
          "output_type": "stream",
          "text": [
            "GPU: Hello world!\n",
            "GPU: Hello world!\n",
            "GPU: Hello world!\n",
            "GPU: Hello world!\n",
            "GPU: Hello world!\n",
            "GPU: Hello world!\n",
            "GPU: Hello world!\n",
            "GPU: Hello world!\n",
            "GPU: Hello world!\n",
            "GPU: Hello world!\n",
            "GPU: Hello world!\n",
            "GPU: Hello world!\n",
            "CPU: Hello world!"
          ],
          "name": "stdout"
        }
      ]
    }
  ]
}